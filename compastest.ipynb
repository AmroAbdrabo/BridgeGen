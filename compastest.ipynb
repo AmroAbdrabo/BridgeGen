{
 "cells": [
  {
   "cell_type": "code",
   "execution_count": 1,
   "metadata": {},
   "outputs": [],
   "source": [
    "import compas"
   ]
  },
  {
   "cell_type": "code",
   "execution_count": 2,
   "metadata": {},
   "outputs": [],
   "source": [
    "from compas.geometry import Box"
   ]
  },
  {
   "cell_type": "code",
   "execution_count": 26,
   "metadata": {},
   "outputs": [],
   "source": [
    "box = Box(xsize=200000, ysize=100000, zsize=100000)\n",
    "mesh = box.to_mesh()\n",
    "ball = mesh.subdivided(k=0)\n",
    "ball.to_obj('ball.obj')"
   ]
  },
  {
   "cell_type": "code",
   "execution_count": 19,
   "metadata": {},
   "outputs": [
    {
     "name": "stdout",
     "output_type": "stream",
     "text": [
      "Mesh exported to square_mesh.obj.\n"
     ]
    }
   ],
   "source": [
    "import compas\n",
    "from compas.datastructures import Mesh\n",
    "from compas.geometry import Line\n",
    "from compas.utilities import flatten\n",
    "import os\n",
    "\n",
    "def create_square(bottom_left, side_length):\n",
    "    \"\"\"Creates a square using Compas Mesh and returns its vertices and edges.\n",
    "\n",
    "    Parameters:\n",
    "    bottom_left (tuple): The bottom-left vertex of the square (x, y, z).\n",
    "    side_length (float): The length of each side of the square.\n",
    "\n",
    "    Returns:\n",
    "    Mesh: A Compas Mesh representing the square.\n",
    "    \"\"\"\n",
    "    # Calculate the other three vertices based on the bottom-left vertex and the side length\n",
    "    bottom_right = (bottom_left[0] + side_length, bottom_left[1], bottom_left[2])\n",
    "    top_right = (bottom_left[0] + side_length, bottom_left[1] + side_length, bottom_left[2])\n",
    "    top_left = (bottom_left[0], bottom_left[1] + side_length, bottom_left[2])\n",
    "\n",
    "    # Create a Mesh and add the square's vertices\n",
    "    square_mesh = Mesh()\n",
    "    for vertex in [bottom_left, bottom_right, top_right, top_left]:\n",
    "        square_mesh.add_vertex(x=vertex[0], y=vertex[1], z=vertex[2])\n",
    "\n",
    "    # Add the edges to connect the vertices and form the square\n",
    "    square_mesh.add_face([0, 1, 2, 3])\n",
    "\n",
    "    return square_mesh\n",
    "\n",
    "def export_mesh_to_stl(mesh, filename):\n",
    "    \"\"\"Exports a Compas mesh to an STL file.\n",
    "\n",
    "    Parameters:\n",
    "    mesh (Mesh): The Compas mesh to export.\n",
    "    filename (str): The filename for the exported STL file.\n",
    "    \"\"\"\n",
    "    # Use Compas function to export the mesh to STL\n",
    "    mesh.to_obj(filename)\n",
    "\n",
    "# Example usage\n",
    "bottom_left_vertex = (0, 0, 0)\n",
    "side_length = 5\n",
    "square_mesh = create_square(bottom_left_vertex, side_length)\n",
    "\n",
    "# Define the filename and export the mesh\n",
    "filename = \"square_mesh.obj\"\n",
    "export_mesh_to_stl(square_mesh, filename)\n",
    "\n",
    "print(f\"Mesh exported to {filename}.\")\n"
   ]
  },
  {
   "cell_type": "code",
   "execution_count": 25,
   "metadata": {},
   "outputs": [
    {
     "name": "stdout",
     "output_type": "stream",
     "text": [
      "Requirement already satisfied: compas_occ in c:\\users\\amroa\\anaconda3\\envs\\compas-dev\\lib\\site-packages (1.0.0)\n",
      "Requirement already satisfied: compas>=2.0.0 in c:\\users\\amroa\\anaconda3\\envs\\compas-dev\\lib\\site-packages (from compas_occ) (2.0.1)\n",
      "Requirement already satisfied: nptyping>=2.3.1 in c:\\users\\amroa\\anaconda3\\envs\\compas-dev\\lib\\site-packages (from compas_occ) (2.5.0)\n",
      "Requirement already satisfied: typing-extensions in c:\\users\\amroa\\anaconda3\\envs\\compas-dev\\lib\\site-packages (from compas_occ) (4.9.0)\n",
      "Requirement already satisfied: jsonschema in c:\\users\\amroa\\anaconda3\\envs\\compas-dev\\lib\\site-packages (from compas>=2.0.0->compas_occ) (4.21.1)\n",
      "Requirement already satisfied: networkx>=3.0 in c:\\users\\amroa\\anaconda3\\envs\\compas-dev\\lib\\site-packages (from compas>=2.0.0->compas_occ) (3.2.1)\n",
      "Requirement already satisfied: numpy>=1.15.4 in c:\\users\\amroa\\anaconda3\\envs\\compas-dev\\lib\\site-packages (from compas>=2.0.0->compas_occ) (1.26.3)\n",
      "Requirement already satisfied: scipy>=1.1 in c:\\users\\amroa\\anaconda3\\envs\\compas-dev\\lib\\site-packages (from compas>=2.0.0->compas_occ) (1.12.0)\n",
      "Requirement already satisfied: watchdog in c:\\users\\amroa\\anaconda3\\envs\\compas-dev\\lib\\site-packages (from compas>=2.0.0->compas_occ) (3.0.0)\n",
      "Requirement already satisfied: attrs>=22.2.0 in c:\\users\\amroa\\anaconda3\\envs\\compas-dev\\lib\\site-packages (from jsonschema->compas>=2.0.0->compas_occ) (23.2.0)\n",
      "Requirement already satisfied: jsonschema-specifications>=2023.03.6 in c:\\users\\amroa\\anaconda3\\envs\\compas-dev\\lib\\site-packages (from jsonschema->compas>=2.0.0->compas_occ) (2023.12.1)\n",
      "Requirement already satisfied: referencing>=0.28.4 in c:\\users\\amroa\\anaconda3\\envs\\compas-dev\\lib\\site-packages (from jsonschema->compas>=2.0.0->compas_occ) (0.33.0)\n",
      "Requirement already satisfied: rpds-py>=0.7.1 in c:\\users\\amroa\\anaconda3\\envs\\compas-dev\\lib\\site-packages (from jsonschema->compas>=2.0.0->compas_occ) (0.17.1)\n"
     ]
    },
    {
     "name": "stderr",
     "output_type": "stream",
     "text": [
      "ERROR: Could not find a version that satisfies the requirement pythonocc-core (from versions: none)\n",
      "ERROR: No matching distribution found for pythonocc-core\n"
     ]
    }
   ],
   "source": [
    "!pip install compas_occ\n",
    "!pip install pythonocc-core"
   ]
  },
  {
   "cell_type": "code",
   "execution_count": 21,
   "metadata": {},
   "outputs": [
    {
     "ename": "ModuleNotFoundError",
     "evalue": "No module named 'OCC'",
     "output_type": "error",
     "traceback": [
      "\u001b[1;31m---------------------------------------------------------------------------\u001b[0m",
      "\u001b[1;31mModuleNotFoundError\u001b[0m                       Traceback (most recent call last)",
      "Cell \u001b[1;32mIn[21], line 2\u001b[0m\n\u001b[0;32m      1\u001b[0m \u001b[38;5;28;01mfrom\u001b[39;00m \u001b[38;5;21;01mcompas\u001b[39;00m\u001b[38;5;21;01m.\u001b[39;00m\u001b[38;5;21;01mgeometry\u001b[39;00m \u001b[38;5;28;01mimport\u001b[39;00m Line\n\u001b[1;32m----> 2\u001b[0m \u001b[38;5;28;01mfrom\u001b[39;00m \u001b[38;5;21;01mcompas_occ\u001b[39;00m\u001b[38;5;21;01m.\u001b[39;00m\u001b[38;5;21;01mgeometry\u001b[39;00m \u001b[38;5;28;01mimport\u001b[39;00m OCCNurbsSurface\n\u001b[0;32m      3\u001b[0m \u001b[38;5;28;01mdef\u001b[39;00m \u001b[38;5;21mcreate_extruded_square\u001b[39m(bottom_left, side_length, extrude_distance):\n\u001b[0;32m      4\u001b[0m \u001b[38;5;250m    \u001b[39m\u001b[38;5;124;03m\"\"\"Creates an extruded square using Compas Mesh and returns its vertices and edges.\u001b[39;00m\n\u001b[0;32m      5\u001b[0m \n\u001b[0;32m      6\u001b[0m \u001b[38;5;124;03m    Parameters:\u001b[39;00m\n\u001b[1;32m   (...)\u001b[0m\n\u001b[0;32m     12\u001b[0m \u001b[38;5;124;03m    Mesh: A Compas Mesh representing the extruded square.\u001b[39;00m\n\u001b[0;32m     13\u001b[0m \u001b[38;5;124;03m    \"\"\"\u001b[39;00m\n",
      "File \u001b[1;32mc:\\Users\\amroa\\anaconda3\\envs\\compas-dev\\Lib\\site-packages\\compas_occ\\geometry\\__init__.py:1\u001b[0m\n\u001b[1;32m----> 1\u001b[0m \u001b[38;5;28;01mfrom\u001b[39;00m \u001b[38;5;21;01m.\u001b[39;00m\u001b[38;5;21;01mcurves\u001b[39;00m \u001b[38;5;28;01mimport\u001b[39;00m OCCCurve2d  \u001b[38;5;66;03m# noqa: F401\u001b[39;00m\n\u001b[0;32m      2\u001b[0m \u001b[38;5;28;01mfrom\u001b[39;00m \u001b[38;5;21;01m.\u001b[39;00m\u001b[38;5;21;01mcurves\u001b[39;00m \u001b[38;5;28;01mimport\u001b[39;00m OCCCurve  \u001b[38;5;66;03m# noqa: F401\u001b[39;00m\n\u001b[0;32m      3\u001b[0m \u001b[38;5;28;01mfrom\u001b[39;00m \u001b[38;5;21;01m.\u001b[39;00m\u001b[38;5;21;01mcurves\u001b[39;00m \u001b[38;5;28;01mimport\u001b[39;00m OCCNurbsCurve  \u001b[38;5;66;03m# noqa: F401\u001b[39;00m\n",
      "File \u001b[1;32mc:\\Users\\amroa\\anaconda3\\envs\\compas-dev\\Lib\\site-packages\\compas_occ\\geometry\\curves\\__init__.py:1\u001b[0m\n\u001b[1;32m----> 1\u001b[0m \u001b[38;5;28;01mfrom\u001b[39;00m \u001b[38;5;21;01m.\u001b[39;00m\u001b[38;5;21;01mcurve2d\u001b[39;00m \u001b[38;5;28;01mimport\u001b[39;00m OCCCurve2d  \u001b[38;5;66;03m# noqa : F401\u001b[39;00m\n\u001b[0;32m      2\u001b[0m \u001b[38;5;28;01mfrom\u001b[39;00m \u001b[38;5;21;01m.\u001b[39;00m\u001b[38;5;21;01mcurve\u001b[39;00m \u001b[38;5;28;01mimport\u001b[39;00m OCCCurve  \u001b[38;5;66;03m# noqa : F401\u001b[39;00m\n\u001b[0;32m      3\u001b[0m \u001b[38;5;28;01mfrom\u001b[39;00m \u001b[38;5;21;01m.\u001b[39;00m\u001b[38;5;21;01mnurbs\u001b[39;00m \u001b[38;5;28;01mimport\u001b[39;00m OCCNurbsCurve\n",
      "File \u001b[1;32mc:\\Users\\amroa\\anaconda3\\envs\\compas-dev\\Lib\\site-packages\\compas_occ\\geometry\\curves\\curve2d.py:9\u001b[0m\n\u001b[0;32m      6\u001b[0m \u001b[38;5;28;01mfrom\u001b[39;00m \u001b[38;5;21;01mcompas\u001b[39;00m\u001b[38;5;21;01m.\u001b[39;00m\u001b[38;5;21;01mgeometry\u001b[39;00m \u001b[38;5;28;01mimport\u001b[39;00m Polyline\n\u001b[0;32m      7\u001b[0m \u001b[38;5;28;01mfrom\u001b[39;00m \u001b[38;5;21;01mcompas\u001b[39;00m\u001b[38;5;21;01m.\u001b[39;00m\u001b[38;5;21;01mgeometry\u001b[39;00m \u001b[38;5;28;01mimport\u001b[39;00m Frame\n\u001b[1;32m----> 9\u001b[0m \u001b[38;5;28;01mfrom\u001b[39;00m \u001b[38;5;21;01mOCC\u001b[39;00m\u001b[38;5;21;01m.\u001b[39;00m\u001b[38;5;21;01mCore\u001b[39;00m\u001b[38;5;21;01m.\u001b[39;00m\u001b[38;5;21;01mBRepBuilderAPI\u001b[39;00m \u001b[38;5;28;01mimport\u001b[39;00m BRepBuilderAPI_MakeEdge2d\n\u001b[0;32m     10\u001b[0m \u001b[38;5;28;01mfrom\u001b[39;00m \u001b[38;5;21;01mOCC\u001b[39;00m\u001b[38;5;21;01m.\u001b[39;00m\u001b[38;5;21;01mCore\u001b[39;00m\u001b[38;5;21;01m.\u001b[39;00m\u001b[38;5;21;01mGeom2d\u001b[39;00m \u001b[38;5;28;01mimport\u001b[39;00m Geom2d_Curve\n\u001b[0;32m     11\u001b[0m \u001b[38;5;28;01mfrom\u001b[39;00m \u001b[38;5;21;01mOCC\u001b[39;00m\u001b[38;5;21;01m.\u001b[39;00m\u001b[38;5;21;01mCore\u001b[39;00m\u001b[38;5;21;01m.\u001b[39;00m\u001b[38;5;21;01mgp\u001b[39;00m \u001b[38;5;28;01mimport\u001b[39;00m gp_Pnt2d\n",
      "\u001b[1;31mModuleNotFoundError\u001b[0m: No module named 'OCC'"
     ]
    }
   ],
   "source": [
    "from compas.geometry import Line\n",
    "from compas_occ.geometry import OCCNurbsSurface\n",
    "def create_extruded_square(bottom_left, side_length, extrude_distance):\n",
    "    \"\"\"Creates an extruded square using Compas Mesh and returns its vertices and edges.\n",
    "\n",
    "    Parameters:\n",
    "    bottom_left (tuple): The bottom-left vertex of the square (x, y, z).\n",
    "    side_length (float): The length of each side of the square.\n",
    "    extrude_distance (float): The distance to extrude the square face, creating a 3D object.\n",
    "\n",
    "    Returns:\n",
    "    Mesh: A Compas Mesh representing the extruded square.\n",
    "    \"\"\"\n",
    "    # Calculate the other three vertices based on the bottom-left vertex and the side length\n",
    "    bottom_right = (bottom_left[0] + side_length, bottom_left[1], bottom_left[2])\n",
    "    top_right = (bottom_left[0] + side_length, bottom_left[1] + side_length, bottom_left[2])\n",
    "    top_left = (bottom_left[0], bottom_left[1] + side_length, bottom_left[2])\n",
    "\n",
    "    # Create a Mesh and add the square's vertices\n",
    "    square_mesh = Mesh()\n",
    "    for vertex in [bottom_left, bottom_right, top_right, top_left]:\n",
    "        square_mesh.add_vertex(x=vertex[0], y=vertex[1], z=vertex[2])\n",
    "\n",
    "    # Add the edges to connect the vertices and form the square\n",
    "    square_face = square_mesh.add_face([0, 1, 2, 3])\n",
    "\n",
    "    # Extrude the square face to create a 3D object\n",
    "    extruded_mesh = extrude_mesh(square_mesh, [square_face], extrude_distance)\n",
    "\n",
    "    return extruded_mesh\n",
    "\n",
    "# Example usage\n",
    "bottom_left_vertex = (0, 0, 0)\n",
    "side_length = 5\n",
    "extrude_distance = 2  # The distance to extrude the square face\n",
    "extruded_square_mesh = create_extruded_square(bottom_left_vertex, side_length, extrude_distance)\n"
   ]
  },
  {
   "cell_type": "code",
   "execution_count": null,
   "metadata": {},
   "outputs": [],
   "source": []
  }
 ],
 "metadata": {
  "kernelspec": {
   "display_name": "compas-dev",
   "language": "python",
   "name": "python3"
  },
  "language_info": {
   "codemirror_mode": {
    "name": "ipython",
    "version": 3
   },
   "file_extension": ".py",
   "mimetype": "text/x-python",
   "name": "python",
   "nbconvert_exporter": "python",
   "pygments_lexer": "ipython3",
   "version": "3.12.1"
  }
 },
 "nbformat": 4,
 "nbformat_minor": 2
}
